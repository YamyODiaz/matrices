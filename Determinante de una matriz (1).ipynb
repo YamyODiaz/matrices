{
 "cells": [
  {
   "cell_type": "code",
   "execution_count": 30,
   "id": "7c86517c-16f6-47ec-b44f-624ee8195141",
   "metadata": {},
   "outputs": [
    {
     "name": "stdout",
     "output_type": "stream",
     "text": [
      "Determinante de una matriz utilizando la librería Numpy\n",
      "Autor Yamilet Orta\n"
     ]
    }
   ],
   "source": [
    "print(\"Determinante de una matriz utilizando la librería Numpy\")\n",
    "print(\"Autor Yamilet Orta\")"
   ]
  },
  {
   "cell_type": "code",
   "execution_count": 31,
   "id": "b517e35e-ea39-49ac-87c3-64d6f5dea4a3",
   "metadata": {},
   "outputs": [],
   "source": [
    "import numpy as np"
   ]
  },
  {
   "cell_type": "code",
   "execution_count": 32,
   "id": "f294b658-95b6-42b4-872a-200526797fb5",
   "metadata": {},
   "outputs": [],
   "source": [
    "n_array = np.array([[4, 9], [16, 25]])"
   ]
  },
  {
   "cell_type": "code",
   "execution_count": 33,
   "id": "746781cc-c653-4d5e-9f5b-7ba5a7f20d9f",
   "metadata": {},
   "outputs": [],
   "source": [
    "det = np.linalg.det(n_array)"
   ]
  },
  {
   "cell_type": "code",
   "execution_count": 34,
   "id": "7c3e0bb5-0e78-4ff5-a9c1-92719679908b",
   "metadata": {},
   "outputs": [
    {
     "name": "stdout",
     "output_type": "stream",
     "text": [
      "\n",
      "Determinante de la matriz:\n",
      "-43\n"
     ]
    }
   ],
   "source": [
    "print(\"\\nDeterminante de la matriz:\") \n",
    "print(int(det))"
   ]
  },
  {
   "cell_type": "code",
   "execution_count": null,
   "id": "d3dd2a84-2924-44fe-8b13-ef7987dacfca",
   "metadata": {},
   "outputs": [],
   "source": []
  }
 ],
 "metadata": {
  "kernelspec": {
   "display_name": "Python 3 (ipykernel)",
   "language": "python",
   "name": "python3"
  },
  "language_info": {
   "codemirror_mode": {
    "name": "ipython",
    "version": 3
   },
   "file_extension": ".py",
   "mimetype": "text/x-python",
   "name": "python",
   "nbconvert_exporter": "python",
   "pygments_lexer": "ipython3",
   "version": "3.9.6"
  }
 },
 "nbformat": 4,
 "nbformat_minor": 5
}
