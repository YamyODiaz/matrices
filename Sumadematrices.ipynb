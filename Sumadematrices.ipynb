{
 "cells": [
  {
   "cell_type": "code",
   "execution_count": 70,
   "id": "98ff34a0-8280-42ae-8cc1-eea498ca2cae",
   "metadata": {},
   "outputs": [
    {
     "name": "stdout",
     "output_type": "stream",
     "text": [
      "Suma de dos matrices\n",
      "Autor: Yamilet Orta\n"
     ]
    }
   ],
   "source": [
    "print (\"Suma de dos matrices\")\n",
    "print (\"Autor: Yamilet Orta\")"
   ]
  },
  {
   "cell_type": "code",
   "execution_count": 71,
   "id": "445271f2-f920-4f72-b967-688c0920faae",
   "metadata": {},
   "outputs": [],
   "source": [
    "matriz1 = []"
   ]
  },
  {
   "cell_type": "code",
   "execution_count": 72,
   "id": "da1f7245-6274-4216-87cb-bdcaafc2f3f0",
   "metadata": {},
   "outputs": [
    {
     "name": "stdout",
     "output_type": "stream",
     "text": [
      "[0, 0, 0]\n",
      "[0, 0, 0]\n"
     ]
    }
   ],
   "source": [
    "for i in range (filas):\n",
    "    matriz1.append( [0] * columnas)\n",
    "    print(matriz1[i])"
   ]
  },
  {
   "cell_type": "code",
   "execution_count": 73,
   "id": "7bb9b8bb-cacf-4df0-8038-017740849b4c",
   "metadata": {},
   "outputs": [],
   "source": [
    "matriz2 = []"
   ]
  },
  {
   "cell_type": "code",
   "execution_count": 74,
   "id": "46e53396-0f78-4ab9-8971-7f722b51d245",
   "metadata": {},
   "outputs": [
    {
     "name": "stdout",
     "output_type": "stream",
     "text": [
      "[0, 0, 0]\n",
      "[0, 0, 0]\n"
     ]
    }
   ],
   "source": [
    " for i in range (filas):\n",
    "    matriz2.append( [0] * columnas)\n",
    "    print(matriz2[i])"
   ]
  },
  {
   "cell_type": "code",
   "execution_count": 75,
   "id": "b015b945-b4de-4d5f-8446-01025cf2362f",
   "metadata": {},
   "outputs": [
    {
     "name": "stdin",
     "output_type": "stream",
     "text": [
      "Matriz (0, 0):  2\n",
      "Matriz (0, 1):  6\n",
      "Matriz (0, 2):  5\n",
      "Matriz (1, 0):  4\n",
      "Matriz (1, 1):  1\n",
      "Matriz (1, 2):  3\n"
     ]
    }
   ],
   "source": [
    "for i in range (filas) :\n",
    "    for j in range (columnas) :\n",
    "        matriz2 [i][j] =int(input (\"Matriz (%d, %d): \" % (i,j)))"
   ]
  },
  {
   "cell_type": "code",
   "execution_count": 76,
   "id": "f5d1ed15-e09e-4ca0-9fa4-8275ce3ce35d",
   "metadata": {},
   "outputs": [
    {
     "name": "stdout",
     "output_type": "stream",
     "text": [
      "[2, 6, 5]\n",
      "[4, 1, 3]\n"
     ]
    }
   ],
   "source": [
    "for i in range (filas) :\n",
    "    print(matriz2[i])"
   ]
  },
  {
   "cell_type": "code",
   "execution_count": 77,
   "id": "550a28e2-d50b-4087-9585-4e0530fb228d",
   "metadata": {},
   "outputs": [],
   "source": [
    "matrizresultante = []"
   ]
  },
  {
   "cell_type": "code",
   "execution_count": 78,
   "id": "67af6194-e23d-4f9b-a067-286c90397938",
   "metadata": {},
   "outputs": [
    {
     "name": "stdout",
     "output_type": "stream",
     "text": [
      "[0, 0, 0]\n",
      "[0, 0, 0]\n"
     ]
    }
   ],
   "source": [
    "for i in range (filas):\n",
    "     matrizresultante.append( [0] * columnas)\n",
    "     print(matrizresultante[i])"
   ]
  },
  {
   "cell_type": "code",
   "execution_count": 79,
   "id": "e81ac0cf-225c-4ec9-bc09-86a59b05dfa4",
   "metadata": {},
   "outputs": [],
   "source": [
    "for i in range (filas):\n",
    "    for j in range (columnas):\n",
    "        matrizresultante [i] [j] = matriz1 [i] [j] + matriz2 [i] [j]"
   ]
  },
  {
   "cell_type": "code",
   "execution_count": 80,
   "id": "ded4fdcf-6958-4d90-989c-8d4271cf5e1f",
   "metadata": {},
   "outputs": [
    {
     "name": "stdout",
     "output_type": "stream",
     "text": [
      "[2]\n",
      "[2, 6]\n",
      "[2, 6, 5]\n",
      "[4]\n",
      "[4, 1]\n",
      "[4, 1, 3]\n"
     ]
    }
   ],
   "source": [
    "for i in range (filas):\n",
    "    matriznueva=[]\n",
    "    for j in range (columnas):\n",
    "        matriznueva.append(matrizresultante [i] [j])\n",
    "        print(matriznueva)"
   ]
  }
 ],
 "metadata": {
  "kernelspec": {
   "display_name": "Python 3 (ipykernel)",
   "language": "python",
   "name": "python3"
  },
  "language_info": {
   "codemirror_mode": {
    "name": "ipython",
    "version": 3
   },
   "file_extension": ".py",
   "mimetype": "text/x-python",
   "name": "python",
   "nbconvert_exporter": "python",
   "pygments_lexer": "ipython3",
   "version": "3.9.6"
  }
 },
 "nbformat": 4,
 "nbformat_minor": 5
}
