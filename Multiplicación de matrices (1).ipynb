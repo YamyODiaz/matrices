{
 "cells": [
  {
   "cell_type": "code",
   "execution_count": 18,
   "id": "6ab262d4-843f-4bc0-b1e5-4586fc9ed090",
   "metadata": {},
   "outputs": [
    {
     "name": "stdout",
     "output_type": "stream",
     "text": [
      "Multiplicación de Matrices\n",
      "Autor Yamilet Orta\n"
     ]
    }
   ],
   "source": [
    "print(\"Multiplicación de Matrices\")\n",
    "print(\"Autor Yamilet Orta\")"
   ]
  },
  {
   "cell_type": "code",
   "execution_count": 33,
   "id": "ab5141d3-98fb-4742-8ebd-2e0b9d16248a",
   "metadata": {},
   "outputs": [
    {
     "name": "stdin",
     "output_type": "stream",
     "text": [
      " 2\n",
      " 2\n"
     ]
    }
   ],
   "source": [
    "matriz1=[]\n",
    "filas,columnas = int(input()),int(input())"
   ]
  },
  {
   "cell_type": "code",
   "execution_count": 34,
   "id": "90652f41-8bf5-4fd4-8f7e-a70119c5e7db",
   "metadata": {},
   "outputs": [
    {
     "name": "stdin",
     "output_type": "stream",
     "text": [
      " 2\n",
      " 2\n"
     ]
    }
   ],
   "source": [
    "matriz2=[]\n",
    "filas2, matriz2 = int(input()),int(input())"
   ]
  },
  {
   "cell_type": "code",
   "execution_count": 35,
   "id": "820710d6-ab64-48e5-8920-d9c24de124a8",
   "metadata": {},
   "outputs": [
    {
     "name": "stdout",
     "output_type": "stream",
     "text": [
      "[0, 0]\n",
      "[0, 0]\n"
     ]
    }
   ],
   "source": [
    "for i in range (filas):\n",
    "    matriz1.append( [0] * columnas)\n",
    "    print(matriz1[i])"
   ]
  },
  {
   "cell_type": "code",
   "execution_count": 39,
   "id": "fbdeecc0-18d4-4322-b726-53673a3ab693",
   "metadata": {},
   "outputs": [
    {
     "name": "stdin",
     "output_type": "stream",
     "text": [
      "Matriz1 (0, 0):  2\n",
      "Matriz1 (0, 1):  3\n",
      "Matriz1 (1, 0):  4\n",
      "Matriz1 (1, 1):  5\n"
     ]
    }
   ],
   "source": [
    "for i in range (filas) :\n",
    "    for j in range (columnas) :\n",
    "        matriz1 [i][j] =int(input(\"Matriz1 (%d, %d): \" % (i,j)))"
   ]
  },
  {
   "cell_type": "code",
   "execution_count": 41,
   "id": "9b586130-c952-490c-b61d-b0997e6dcfd7",
   "metadata": {},
   "outputs": [
    {
     "name": "stdout",
     "output_type": "stream",
     "text": [
      "[0, 0]\n",
      "[0, 0]\n"
     ]
    }
   ],
   "source": [
    "for i in range (filas):\n",
    "    matriz2.append( [0] * columnas)\n",
    "    print(matriz2[i])"
   ]
  },
  {
   "cell_type": "code",
   "execution_count": 42,
   "id": "d4d14510-8385-4cdc-b852-e7036ad33ca1",
   "metadata": {},
   "outputs": [
    {
     "name": "stdin",
     "output_type": "stream",
     "text": [
      "Matriz2 (0, 0):  2\n",
      "Matriz2 (0, 1):  3\n",
      "Matriz2 (1, 0):  4\n",
      "Matriz2 (1, 1):  5\n"
     ]
    }
   ],
   "source": [
    "for i in range (filas) :\n",
    "    for j in range (columnas) :\n",
    "        matriz2 [i][j] =int(input(\"Matriz2 (%d, %d): \" % (i,j)))"
   ]
  },
  {
   "cell_type": "code",
   "execution_count": 43,
   "id": "36549f8e-9389-46c7-9c8c-b22f4ca1b221",
   "metadata": {},
   "outputs": [
    {
     "name": "stdout",
     "output_type": "stream",
     "text": [
      "[0, 0]\n",
      "[0, 0]\n"
     ]
    }
   ],
   "source": [
    "matrizresultante = []\n",
    "for i in range (filas):\n",
    "     matrizresultante.append( [0] * columnas)\n",
    "     print(matrizresultante[i])"
   ]
  },
  {
   "cell_type": "code",
   "execution_count": 44,
   "id": "15674cf9-dfbe-458f-90a0-748b385838e2",
   "metadata": {},
   "outputs": [],
   "source": [
    "for i in range (filas):\n",
    "    for j in range (columnas):\n",
    "        matrizresultante [i] [j] = matriz1 [i] [j] * matriz2 [i] [j]"
   ]
  },
  {
   "cell_type": "code",
   "execution_count": 45,
   "id": "dcc20790-102a-470b-b9f5-cc5c1bd11c28",
   "metadata": {},
   "outputs": [
    {
     "name": "stdout",
     "output_type": "stream",
     "text": [
      "[4]\n",
      "[4, 9]\n",
      "[16]\n",
      "[16, 25]\n"
     ]
    }
   ],
   "source": [
    "for i in range (filas):\n",
    "    matriznueva=[]\n",
    "    for j in range (columnas):\n",
    "        matriznueva.append(matrizresultante [i] [j])\n",
    "        print(matriznueva)"
   ]
  },
  {
   "cell_type": "code",
   "execution_count": null,
   "id": "7a5f5428-dac5-45bb-a5bf-916f11fcce17",
   "metadata": {},
   "outputs": [],
   "source": []
  }
 ],
 "metadata": {
  "kernelspec": {
   "display_name": "Python 3 (ipykernel)",
   "language": "python",
   "name": "python3"
  },
  "language_info": {
   "codemirror_mode": {
    "name": "ipython",
    "version": 3
   },
   "file_extension": ".py",
   "mimetype": "text/x-python",
   "name": "python",
   "nbconvert_exporter": "python",
   "pygments_lexer": "ipython3",
   "version": "3.9.6"
  }
 },
 "nbformat": 4,
 "nbformat_minor": 5
}
